{
 "cells": [
  {
   "cell_type": "code",
   "execution_count": 1,
   "metadata": {},
   "outputs": [],
   "source": [
    "#Import Packages\n",
    "from selenium import webdriver\n",
    "import time\n",
    "import requests\n",
    "import pandas as pd\n",
    "import os\n",
    "from bs4 import BeautifulSoup"
   ]
  },
  {
   "cell_type": "code",
   "execution_count": 2,
   "metadata": {},
   "outputs": [],
   "source": [
    "#Import Packages\n",
    "\n",
    "from selenium.webdriver.support.select import Select\n",
    "from selenium.webdriver.support.ui import WebDriverWait\n",
    "from selenium.webdriver.common.by import By\n",
    "from selenium.webdriver.support import expected_conditions as EC\n",
    "from selenium.common.exceptions import NoSuchElementException"
   ]
  },
  {
   "cell_type": "code",
   "execution_count": 3,
   "metadata": {},
   "outputs": [],
   "source": [
    "HEADERS = ({'User-Agent':'Mozilla/5.0 (Windows NT 10.0; Win64; x64) AppleWebKit/537.36 (KHTML, like Gecko) Chrome/123.0.0.0 Safari/537.36', 'Accept-Language': 'en-US, en;q=0.5'})"
   ]
  },
  {
   "cell_type": "code",
   "execution_count": 4,
   "metadata": {},
   "outputs": [],
   "source": [
    "url = \"https://www.jobsforher.com/jobs?keyword=Software+Engineering%2CQA%2CQuality+Control%2CCustomer+Service+Tech+Support&job_skills=&company_keyword=&button_type=&min_exp=0&max_exp=1\""
   ]
  },
  {
   "cell_type": "code",
   "execution_count": 5,
   "metadata": {},
   "outputs": [],
   "source": [
    "driver = webdriver.Chrome() # Initialize Chrome WebDriver\n",
    "driver.implicitly_wait(2) # Wait for up to 2 seconds for elements to appear\n",
    "driver.get(url) # Open the URL"
   ]
  },
  {
   "cell_type": "code",
   "execution_count": 6,
   "metadata": {},
   "outputs": [],
   "source": [
    "def get_role_name(soup):\n",
    "\n",
    "    try:\n",
    "        Job_name = soup.find('h1', class_='mb-1 emp_wel_text22').text\n",
    "\n",
    "    except AttributeError:\n",
    "        Job_name = \"\"\n",
    "    return Job_name\n",
    "\n",
    "def get_company_name(soup):\n",
    "    try:\n",
    "        div_element = soup.find('div', class_='jobs-fixed-header')\n",
    "        # Extract the company name\n",
    "        Company_name = div_element.find('h2').text.strip()\n",
    "\n",
    "    except AttributeError:\n",
    "        Company_name = \"\"\n",
    "    return Company_name\n",
    "\n",
    "def get_location(soup):\n",
    "    try:\n",
    "        location_element = soup.find('div', class_='mb-1 jd-title3-18 d-none d-md-block')\n",
    "\n",
    "        # Extract the text content after stripping unnecessary characters\n",
    "        location_name = location_element.text.strip().split('&nbsp;&nbsp;')[-1]\n",
    "        location = location_name.split()[0]\n",
    "\n",
    "    except AttributeError:\n",
    "        location = \"\"\n",
    "    return location\n",
    "\n",
    "def get_jd(soup):\n",
    "    try:\n",
    "        job_description = soup.find('div', class_='descriptionless').text.strip()\n",
    "\n",
    "    except AttributeError:\n",
    "        job_description = \"\"\n",
    "    return job_description\n",
    "\n",
    "def get_salary(soup):\n",
    "    try:\n",
    "        salary_element = soup.find('p', string='Salary')\n",
    "        salary = salary_element.find_next_sibling('p').text.strip()\n",
    "\n",
    "    except AttributeError:\n",
    "        salary = \"\"\n",
    "    return salary\n",
    "\n",
    "def get_skills(soup):\n",
    "    try:\n",
    "        skills_element = soup.find('p', string='Key Skills Required')\n",
    "        skills = skills_element.find_next_sibling('span').text.strip()\n",
    "\n",
    "    except AttributeError:\n",
    "        skills = \"\"\n",
    "    return skills"
   ]
  },
  {
   "cell_type": "code",
   "execution_count": 7,
   "metadata": {},
   "outputs": [
    {
     "name": "stdout",
     "output_type": "stream",
     "text": [
      "{'Company_name': [], 'Role': [], 'Skills': [], 'Job_description': [], 'Salary': [], 'Location': [], 'Application_link': []}\n"
     ]
    }
   ],
   "source": [
    "d = {\"Company_name\":[], \"Role\":[],  \"Skills\":[], \"Job_description\":[],\"Salary\":[], \"Location\":[], \"Application_link\":[]}\n",
    "print(d)"
   ]
  },
  {
   "cell_type": "code",
   "execution_count": 8,
   "metadata": {},
   "outputs": [],
   "source": [
    "for i in range(3): # Adjust the range as required\n",
    "    try:\n",
    "        button_element = driver.find_element(By.ID, \"my-job-load-more\") # Find button element\n",
    "        button_element.click() # Click the button\n",
    "    except NoSuchElementException:\n",
    "        print(\"Button no longer exists.\")\n",
    "        break\n",
    "    time.sleep(4)"
   ]
  },
  {
   "cell_type": "code",
   "execution_count": 9,
   "metadata": {},
   "outputs": [],
   "source": [
    "html_content = driver.page_source # Get the HTML content of the current page\n",
    "soup = BeautifulSoup(html_content, 'html.parser') # Parse the HTML content using BeautifulSoup\n",
    "links = soup.find_all(\"a\", attrs={'class':'text-left mb-1'}) # Find all links with the specified class\n",
    "links_list = []\n",
    "for link in links:\n",
    "    links_list.append(link.get('href'))"
   ]
  },
  {
   "cell_type": "code",
   "execution_count": 10,
   "metadata": {},
   "outputs": [],
   "source": [
    "for link in links_list:\n",
    "        new_webpage = requests.get(\"https://www.jobsforher.com/\" + link, headers=HEADERS) # Send request to access the page\n",
    "        new_link = \"https://www.jobsforher.com/\"+link # New link \n",
    "\n",
    "        new_soup = BeautifulSoup(new_webpage.content, \"html.parser\") # Parse the HTML content of the new webpage\n",
    "        # Call functions to extract the details\n",
    "        d[\"Company_name\"].append(get_company_name(new_soup))\n",
    "        d[\"Role\"].append(get_role_name(new_soup))\n",
    "        d[\"Location\"].append(get_location(new_soup))\n",
    "        d[\"Salary\"].append(get_salary(new_soup))\n",
    "        d[\"Skills\"].append(get_skills(new_soup))\n",
    "        d[\"Job_description\"].append(get_jd(new_soup))\n",
    "        d[\"Application_link\"].append(new_link)\n",
    "        \n",
    "\n"
   ]
  },
  {
   "cell_type": "code",
   "execution_count": 11,
   "metadata": {},
   "outputs": [
    {
     "name": "stdout",
     "output_type": "stream",
     "text": [
      "{'Company_name': ['Forcepoint', 'Industrial Engineering Consortium', 'Promotup HR Solutions', 'Sycmes Services Pvt Ltd', 'Sycmes Services Pvt Ltd', 'Softpulse Infotech', 'Syniverse', 'sky career air services pvt ltd', 'Syniverse', 'SunPharma', 'Syniverse', 'Syniverse', 'Syniverse', 'Absolute Engineering Company', 'Accureq Managed Services', 'DAZN', 'DAZN', 'Corpseed', 'MERIDA TECH MINDS PVT LTD', 'Equinix', 'DAZN', 'Syniverse', 'Midbrains Technology', 'Midbrains Technology', 'Syniverse'], 'Role': ['QA Engineer (Manual)', 'Field Service Engineer', 'Customer Service Executive', 'Customer Service Executive', 'Customer Service Executive', 'Customer Support Representative', 'Customer Service Specialist I', 'CUSTOMER SERVICE ASSOCIATE  JOB IN AIRLINE', 'QA Engineer - ETL', 'QA Associate - Documentation', 'Sr QA Engineer', 'Sr QA Engineer', 'Sr QA Engineer', 'Export Executive', 'Customer Sales Executive', 'Mobile Engineering Manager - Android', 'Broadcast Support Engineer', 'Customer Care Agent', 'Sales and marketing intern', 'Data Center Customer Operations Engineer', 'Software Engineer - Android', 'Lead Software Engineer', 'Software Testing Trainee', 'Software Testing Trainee', 'Sr Lead Software Engineer'], 'Skills': ['manual software testing, software testing methodologies, tools and processes, bug tracking systems, test case management tools, analytical, agile development methodologies, test automation frameworks', 'technical support', 'fluent english, good communication, problem solving, sales  process', 'customer service', 'customer service, kyc, documentations', 'fluent english communication', '', 'grooming', '', 'gxp’s, cgmp, • learning agility, • compliance', '', '', '', 'communication skills, microsoft excel, email marketing, online marketing, sales', 'sales, online marketing, lead generation', '', '', 'communication skills, email  draft', 'sales, marketing research, direct marketing', 'customer management, documentation/reporting', '', '', 'analytical skills, test automation', 'automation', ''], 'Job_description': ['Location: Mumbai (Hybrid mode)Shift: General shiftCreate detailed, comprehensive, and well-structured test plans and test cases based on product requirementsExecute test cases and document test resultsIdentify and report defects, and work closely with developers to ensure timely resolution of issuesPerform regression testing to ensure that resolved issues do not resurfaceCollaborate with other teams to ensure the timely delivery of high-quality softwareProvide feedback to the development team on product quality issues and potential improvementsRequirements:0-1 (Fresher) years of experience in manual software testingStrong knowledge of software testing methodologies, tools, and processesExperience with bug tracking systems and test case management toolsStrong analytical and problem-solving skillsGood communication and collaboration skillsExperience with Agile development methodologies and latest QA trendsFamiliarity with test automation frameworks and tools is a plus...\\xa0\\xa0See More', '', '', \"Conducting customer satisfaction surveys to understand what areas of the company's services need improvementsCatering to customer phone calls and diverting the call to the relevant department for a more advanced form of query resolutionCurating streamlined email and social media communication mediums for offers, updates and much moreDealing with customer issues and churning out an easy-to-follow solutionManaging payment and delivery of customer ordersHelping customers choose the right product for their requirements and budgetHandling customer concerns and complaints in a timely mannerInforming customers of upcoming promotions or dealsEstablishing a positive rapport with all clients and customers in person or via phoneForming reports based on customer satisfaction statistics and helping their team to develop new skillsFixing appointments based on the availability of customers and clientsInteracting with customers to ensure they have a desirable and shareable experience...\\xa0\\xa0See More\", '', '', \"Syniverse is the world’s most connected company. Whether we’re developing the technology that enables intelligent cars to safely react to traffic changes or freeing travelers to explore by keeping their devices online wherever they go, we believe in leading the world forward.\\xa0 Which is why we work with some of the world’s most recognized brands. Eight of the top 10 banks. Four of the top 5 global technology companies. Over 900 communications providers. And how we’re able to provide our incredible talent with an innovative culture and great benefits.Who We're Looking ForThe Customer Service Specialist I is responsible for providing the first level of technical support for products and services.  This position will work with customers and internal support teams to assist with trouble shooting and problem resolution. \\u202fKey elements of this role include familiarity with Syniverse’s products and services, and the ability to quickly identify and address customer needs-Some of...\\xa0\\xa0See More\", 'WE ARE HIRING CANDIDATES VACANCY FOR AIRPORT IN CUSTOMER SERVICE ASSOCIATE JOB(HR,7980083392and also whatts app).Post:-Passenger Handling Staff/Cargo Supervisor/Utility/Ticket Handling Staff/Ramp Aria/Loder etc.Qualification: /8th pass,10th pass,12th pass can apply(Graduated)..Salary Range : 18K to 35K Per Month.Age limit 18 to 38 male / 18 to 30 femaleRequired Skills : Good communications skills & pleasing personality.Job Types: Full-time, Fresher.Job Hours-8Hours.Benefits: Health insurance Life insurance.Hiring Process-Face TO Face Interview..Interview Location-Ranaghat, Bengal ...\\xa0\\xa0See More', \"Syniverse is the world’s most connected company. Whether we’re developing the technology that enables intelligent cars to safely react to traffic changes or freeing travelers to explore by keeping their devices online wherever they go, we believe in leading the world forward.\\xa0 Which is why we work with some of the world’s most recognized brands. Eight of the top 10 banks. Four of the top 5 global technology companies. Over 900 communications providers. And how we’re able to provide our incredible talent with an innovative culture and great benefits.Who We're Looking For-Some of What You'll DoDuties and responsibilities:Provide assistance and consulting to Development and Product Support teams on project activities.Develop and create work plans and schedules for Test Project activities.\\xa0Coach and train Testing employees to assist in fulfillment of job responsibilities.Ability to work from functional specifications to write test plans.Perform team lead responsibilities ...\\xa0\\xa0See More\", 'Location: Gangtok, Ranipol, Guwahati, Halol, Baska, Vadodara.Execute the preparation of SOPs, General procedures, updating masters in applicable ERP system, archival of documentation as per current Good Manufacturing Practices requirements.The incumbent will assure individual compliance with the all concerned regulatory requirements, GxP’s and applicable department programs, including training, documentation, Standard Operating Procedures, and Sun Pharma Global Quality Policies, Standards and Procedures.Key responsibilities:1. To prepare and revise QA SOP as per GQS and GSOP.2. Establish control system for tracking SOPs due for revision, alerting stake holders and ensuring timely revision due to periodic review, recommendation from regulatory or corporate, in line with Global Quality documents.3. Issuance and Retrieval of controlled copy of SOP’s and Other GMP documents of site.4. Handling (Issuance, Retrieval, Archival and Destruction) of GMP documents as per policy.5. Review, upd...\\xa0\\xa0See More', \"Syniverse is the world’s most connected company. Whether we’re developing the technology that enables intelligent cars to safely react to traffic changes or freeing travelers to explore by keeping their devices online wherever they go, we believe in leading the world forward.\\xa0 Which is why we work with some of the world’s most recognized brands. Eight of the top 10 banks. Four of the top 5 global technology companies. Over 900 communications providers. And how we’re able to provide our incredible talent with an innovative culture and great benefits.Who We're Looking For-Some of What You'll DoDuties and responsibilities:Provide assistance and consulting to Development and Product Support teams on project activities.Develop and create work plans and schedules for Test Project activities.\\xa0Coach and train Testing employees to assist in fulfillment of job responsibilities.Ability to work from functional specifications to write test plans.Perform team lead responsibilities ...\\xa0\\xa0See More\", \"Syniverse is the world’s most connected company. Whether we’re developing the technology that enables intelligent cars to safely react to traffic changes or freeing travelers to explore by keeping their devices online wherever they go, we believe in leading the world forward.\\xa0 Which is why we work with some of the world’s most recognized brands. Eight of the top 10 banks. Four of the top 5 global technology companies. Over 900 communications providers. And how we’re able to provide our incredible talent with an innovative culture and great benefits.Who We're Looking For-Some of What You'll DoDuties and responsibilities:Provide assistance and consulting to Development and Product Support teams on project activities.Develop and create work plans and schedules for Test Project activities.\\xa0Coach and train Testing employees to assist in fulfillment of job responsibilities.Ability to work from functional specifications to write test plans.Perform team lead responsibilities ...\\xa0\\xa0See More\", \"Syniverse is the world’s most connected company. Whether we’re developing the technology that enables intelligent cars to safely react to traffic changes or freeing travelers to explore by keeping their devices online wherever they go, we believe in leading the world forward.\\xa0 Which is why we work with some of the world’s most recognized brands. Eight of the top 10 banks. Four of the top 5 global technology companies. Over 900 communications providers. And how we’re able to provide our incredible talent with an innovative culture and great benefits.Who We're Looking ForThe Advisory System Engineer QA is responsible for defining and implementing the testing methodology for cross-functional and non cross-functional projects and for participating in, and supporting all required testing activities to ensure all process controls are adhered to and completed in a timely and cost effective manner.-Some of What You'll DoPrimary Duties and Responsibilities:Provide cross-product...\\xa0\\xa0See More\", 'About Absolute Engineering CompanyEstablished in 1960, and backed by 60 years of engineering experience, we are the foremost experts in manufacturing high-quality engine spare parts & globally known for competitive prices and on-time delivery. Our head office is located in Mumbai, India & factory is at Rajkot, India.Number of Positions : 6Job Profile - day-to-day responsibilities include:Email/whatsapp & International call for international business development, No field marketing. Only Office/desk job2. Updation of customer profile & response in XL3. Find new customers from google with software & approach new customers via email/whatsaap/Call4. Generate New orders & customers.Skill(s) requiredEmail Marketing, English Proficiency (Spoken), English Proficiency (Written), MS-Excel, Self Correspondence.Who can applyOnly those candidates can apply who:1. are available for full time2. can Join on immediate basis3. are Looking for Long term employment.4. have relevant skills and interests5. Educ...\\xa0\\xa0See More', 'Accureq Managed Services is a one stop solution which connects variedbusinesses with the best talent across the IT and non-IT sectors.We expertise in understanding the challenges and opportunities faced by the IT,and non-IT sectors, enabling us to provide tailored staffing andrecruitment solutions that address our client’s ever-evolving needs .We arecommitted to helping organizations achieve their goals driving us to deliverexceptional recruitment services.Bench Sales RecruiterRole: Bench Sales Recruitment ( Sales & Marketing & Lead Generation )Experience: 0 to 3 months (Fresher can also apply)Location: 308, Venus Amadeus, Jodhpur Cross Rd, Satellite, Ahmedabad, Gujarat 380015. Compulsory work from office.Shift: US Shift (7:30 pm to 4:30 am IST)Job Requirements:Looking for someone who is aggressive, a Team Player, and well-aware of the technologies in the market.Have excellent written, verbal and interpersonal communication skills.Should have a Minimum of 3 month of experience in Ben...\\xa0\\xa0See More', 'Are you an experienced Mobile Engineering Manager looking for your next challenge? Dazn is seeking a talented and motivated individual to lead our engineering team. You will be responsible for managing a team of engineers, driving the development of our mobile platforms, and ensuring that our technology meets the needs of our growing customer base. At DAZN, we bring ambition to life. We are innovators, game-changers and pioneers. So, if you want to push boundaries and make an impact, DAZN is the place to be.\\n As our new Engineering Manager, you’ll have the opportunity to:Lead engineering teams composed of backend, frontend, iOS, Android developers and QA.Contribute to the technical strategy and collaborate with key stakeholders to influence the product outcome both for long and short-term goals.Set goals and priorities for your engineering team. Provide coaching and mentoring to individual team members to help them achieve their goals. Manage day-to-day operations, such as code revie', \"DAZN is a world-changing sports broadcaster bringing thousands of sporting events into millions of households across the world, delivering live sport direct to consumers through 100s of devices in over 200 countries.\\xa0We have a fantastic opportunity in our Technology team for a Broadcast Support Engineer.\\xa0This role will be based in our brand-new Hyderabad office, and you will work on call and in shifts. Join us in India’s beautiful “City of Pearls” and bring your ambition to life.\\nAs our new Broadcast Support Engineer, you'll have the opportunity to:Monitoring of DAZN’s critical broadcast systemsAct as an escalation point for operations teams in resolving technical faults. Provide regular maintenance of broadcast playout and related production equipment.Follow best practice and procedure on internal and external ITSM systems.Attending meetings with team leaders and senior engineers to improve process and instructional guidance documentation.Communication and escalation with ven...\\xa0\\xa0See More\", \"Role DescriptionThis is an internship role for a Customer Service Executive at Corpseed. As a Customer Service Executive, you will be responsible for addressing customer inquiries, resolving issues or complaints, providing product or service information, and ensuring customer satisfaction. This is an on-site role located in Noida.QualificationsInterpersonal Skills and Customer Service ManagementCustomer Satisfaction and Customer SupportAbility to effectively communicate with customersStrong problem-solving and decision-making skillsMultitasking and time management abilitiesAttention to detail and organizational skillsExperience in a customer service role is a plusBachelor's degree in a relevant field is preferred...\\xa0\\xa0See More\", 'Position Overview: We are seeking a dynamic and motivated Marketing and Sales Intern to join our team. This internship offers hands-on experience in both marketing and sales functions within our organization. The ideal candidate is a self-starter with a passion for marketing and sales, excellent communication skills, and the ability to work in a fast-paced environment. This position will provide valuable exposure to various aspects of marketing and sales strategies, campaigns, and customer interactions.Responsibilities:Assist in the development and execution of marketing campaigns across various channels, including social media, email, and digital advertising.Conduct market research and analysis to identify trends, competitor activities, and customer preferences.Create engaging content for marketing materials, including website copy, blog posts, and promotional materials.Support the sales team in lead generation activities, including prospecting, cold calling, and email outreach.Assist...\\xa0\\xa0See More', \"We currently have 2 x open position in which the successful candidate's will provides support to security system design and uses expertise to recommend system modifications. The role will suit someone with some exposure to data centers or similar environments, or recent Diploma Graduates particularly those with experience in Networking.ResponsibilitiesInstallations• Racks and stacks customer equipment• Reads installation plans (Visio Drawings / Spreadsheets) and implements installation accordinglyQueue Management• Determines work priorities from the Oracle queue and ensures adherence to all commit timesTesting/Troubleshooting• Troubleshoots switched / multiplexed / media converted circuits; escalates to, and works with networking group, as neededCross Connects• Installs/tests/modifies cross connects per SOPs and ensures proper cable management of: coax, fiber, twisted pair copper, and intra-building cross connects• Installs and tests advanced cross connects circuits (switched, mul...\\xa0\\xa0See More\", 'DAZN is a tech-first sport streaming platform that reaches millions of users every week. We are challenging a traditional industry and giving power back to the fans. Our new Hyderabad tech hub will be the engine that drives us forward to the future. We’re pushing boundaries and doing things no-one has done before. Here, you have the opportunity to make your mark and the power to make change happen - to make a difference for our customers. When you join DAZN you will work on projects that impact millions of lives thanks to your critical contributions to our global productsThis is the perfect place to work if you are passionate about technology and want an opportunity to use your creativity to help grow and scale a global range of IT systems, Infrastructure and IT Services. Our cutting-edge technology allows us to stream sports content to millions of concurrent viewers globally across multiple platforms and devices. DAZN’s Cloud based architecture unifies a range of technologies in o', \"Syniverse is the world’s most connected company. Whether we’re developing the technology that enables intelligent cars to safely react to traffic changes or freeing travelers to explore by keeping their devices online wherever they go, we believe in leading the world forward.\\xa0 Which is why we work with some of the world’s most recognized brands. Eight of the top 10 banks. Four of the top 5 global technology companies. Over 900 communications providers. And how we’re able to provide our incredible talent with an innovative culture and great benefits.Who We're Looking ForWe are looking for Lead Software Developer who is passionate about designing and writing software to join a collaborative and distributed group of Developers on our core Analytics team. The core Analytics team is responsible for building data pipelines, frameworks and tools to produce quality data that enables business and customers to explore insights. If you have working knowledge of big data frameworks (H...\\xa0\\xa0See More\", '', '', \"Syniverse is the world’s most connected company. Whether we’re developing the technology that enables intelligent cars to safely react to traffic changes or freeing travelers to explore by keeping their devices online wherever they go, we believe in leading the world forward.\\xa0 Which is why we work with some of the world’s most recognized brands. Eight of the top 10 banks. Four of the top 5 global technology companies. Over 900 communications providers. And how we’re able to provide our incredible talent with an innovative culture and great benefits.Who We're Looking ForWe are seeking a Senior Java Developer with a focus on Telecom Solutions to join our team. The successful candidate will have strong experience in Java development and hands-on experience in Telecom technologies such as 3G, LTE, 5G core networks and related Policy/Charging implementation. As a Senior Java Developer, you will play a key role in designing, developing, and implementing robust software solutions ...\\xa0\\xa0See More\"], 'Salary': ['', '1.5 - 2 Lakhs', '2 - 2.5 Lakhs', '1.5 - 2 Lakhs', '1.5 - 2 Lakhs', '', '', '2 - 2.5 Lakhs', '', '', '', '', '', '1.5 - 2 Lakhs', '2.5 - 3 Lakhs', '', '', '', '1.5 - 2 Lakhs', '', '', '', '1.5 - 2 Lakhs', '2 - 2.5 Lakhs', ''], 'Location': ['Mumbai', 'Coimbatore,', 'Mumbai', 'Mumbai', 'Mumbai', 'Surat', 'Bangalore', 'Kolkata,', 'Bangalore', 'Gangtok,', 'Bangalore', 'Bangalore', 'Bangalore', 'Thane', 'Ahmedabad,', 'Hyderabad', 'Hyderabad', 'Noida', 'Bangalore', 'Mumbai', 'Hyderabad', 'Bangalore', 'Pune', 'Pune', 'Bangalore'], 'Application_link': ['https://www.jobsforher.com/jobs/qa-engineer-manual/163277', 'https://www.jobsforher.com/jobs/field-service-engineer/161497', 'https://www.jobsforher.com/jobs/customer-service-executive/163234', 'https://www.jobsforher.com/jobs/customer-service-executive/151429', 'https://www.jobsforher.com/jobs/customer-service-executive/162177', 'https://www.jobsforher.com/jobs/customer-support-representative/163689', 'https://www.jobsforher.com/jobs/customer-service-specialist-i/163847', 'https://www.jobsforher.com/jobs/customer-service-associate-job-in-airline/161082', 'https://www.jobsforher.com/jobs/qa-engineer-etl/163838', 'https://www.jobsforher.com/jobs/qa-associate-documentation/162791', 'https://www.jobsforher.com/jobs/sr-qa-engineer/163849', 'https://www.jobsforher.com/jobs/sr-qa-engineer/163850', 'https://www.jobsforher.com/jobs/sr-qa-engineer/163837', 'https://www.jobsforher.com/jobs/export-executive/161696', 'https://www.jobsforher.com/jobs/customer-sales-executive/163338', 'https://www.jobsforher.com/jobs/mobile-engineering-manager-android/163676', 'https://www.jobsforher.com/jobs/broadcast-support-engineer/163671', 'https://www.jobsforher.com/jobs/customer-care-agent/162844', 'https://www.jobsforher.com/jobs/sales-and-marketing-intern/163884', 'https://www.jobsforher.com/jobs/data-center-customer-operations-engineer/161116', 'https://www.jobsforher.com/jobs/software-engineer-android/163682', 'https://www.jobsforher.com/jobs/lead-software-engineer/163843', 'https://www.jobsforher.com/jobs/software-testing-trainee/152135', 'https://www.jobsforher.com/jobs/software-testing-trainee/150727', 'https://www.jobsforher.com/jobs/sr-lead-software-engineer/163851']}\n"
     ]
    }
   ],
   "source": [
    "print(d)"
   ]
  },
  {
   "cell_type": "code",
   "execution_count": 12,
   "metadata": {},
   "outputs": [],
   "source": [
    "df = pd.DataFrame.from_dict(d)\n",
    "\n",
    "  # Save DataFrame to CSV file\n",
    "csv_file_path = \"job_data_jobsforher2.csv\"\n",
    "df.to_csv(csv_file_path, index=False)"
   ]
  },
  {
   "cell_type": "code",
   "execution_count": null,
   "metadata": {},
   "outputs": [],
   "source": []
  }
 ],
 "metadata": {
  "kernelspec": {
   "display_name": "Python 3",
   "language": "python",
   "name": "python3"
  },
  "language_info": {
   "codemirror_mode": {
    "name": "ipython",
    "version": 3
   },
   "file_extension": ".py",
   "mimetype": "text/x-python",
   "name": "python",
   "nbconvert_exporter": "python",
   "pygments_lexer": "ipython3",
   "version": "3.12.1"
  }
 },
 "nbformat": 4,
 "nbformat_minor": 2
}
