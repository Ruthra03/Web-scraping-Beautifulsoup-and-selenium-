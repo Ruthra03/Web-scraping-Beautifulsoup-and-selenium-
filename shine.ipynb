{
 "cells": [
  {
   "cell_type": "code",
   "execution_count": 2,
   "metadata": {},
   "outputs": [],
   "source": [
    "#Import Packages\n",
    "from selenium import webdriver\n",
    "import time\n",
    "import requests\n",
    "import pandas as pd\n",
    "import os\n",
    "from bs4 import BeautifulSoup"
   ]
  },
  {
   "cell_type": "code",
   "execution_count": 3,
   "metadata": {},
   "outputs": [],
   "source": [
    "#Import Packages\n",
    "\n",
    "from selenium.webdriver.support.select import Select\n",
    "from selenium.webdriver.support.ui import WebDriverWait\n",
    "from selenium.webdriver.common.by import By\n",
    "from selenium.webdriver.support import expected_conditions as EC"
   ]
  },
  {
   "cell_type": "code",
   "execution_count": 4,
   "metadata": {},
   "outputs": [],
   "source": [
    "HEADERS = ({'User-Agent':'Mozilla/5.0 (Windows NT 10.0; Win64; x64) AppleWebKit/537.36 (KHTML, like Gecko) Chrome/123.0.0.0 Safari/537.36', 'Accept-Language': 'en-US, en;q=0.5'})"
   ]
  },
  {
   "cell_type": "code",
   "execution_count": 7,
   "metadata": {},
   "outputs": [],
   "source": [
    "url = \"https://www.shine.com/job-search/software-developer-fresher-data-analyst-jobs?q=software-developer-fresher-data-analyst&minexp=2\""
   ]
  },
  {
   "cell_type": "code",
   "execution_count": 8,
   "metadata": {},
   "outputs": [],
   "source": [
    "driver = webdriver.Chrome()\n",
    "driver.implicitly_wait(2)\n",
    "driver.get(url)"
   ]
  },
  {
   "cell_type": "code",
   "execution_count": 9,
   "metadata": {},
   "outputs": [
    {
     "name": "stdout",
     "output_type": "stream",
     "text": [
      "{'Company_name': [], 'Role': [], 'Skills': [], 'Job_description': [], 'Location': []}\n"
     ]
    }
   ],
   "source": [
    "d = {\"Company_name\":[], \"Role\":[],  \"Skills\":[], \"Job_description\":[],  \"Location\":[]} #salary not mentioned in shine\n",
    "print(d)"
   ]
  },
  {
   "cell_type": "code",
   "execution_count": 10,
   "metadata": {},
   "outputs": [],
   "source": [
    "def get_info(driver):\n",
    "    time.sleep(4)\n",
    "    #WebDriverWait(driver, 10).until(EC.presence_of_element_located((By.CLASS_NAME, 'obCard_pReplaceH2__xWmHg')))\n",
    "    html_content = driver.page_source\n",
    "    soup = BeautifulSoup(html_content, 'html.parser')\n",
    "    links = soup.find_all('strong', class_='jobCard_pReplaceH2__xWmHg')\n",
    "    for link in links:\n",
    "        link = link.a[\"href\"]\n",
    "        new_link = \"https://www.shine.com\"+link\n",
    "        new_webpage = requests.get(new_link, headers=HEADERS)\n",
    "        new_soup = BeautifulSoup(new_webpage.content, \"html.parser\")\n",
    "        time.sleep(5)\n",
    "        Role = new_soup.find('h1', class_='font-size-24').text\n",
    "        d[\"Role\"].append(Role)\n",
    "        print(Role)\n",
    "        div_tag = new_soup.find('div', class_='JobDetailWidget_jobCard_cName__qvsdW')\n",
    "        company = div_tag.span.text\n",
    "        d[\"Company_name\"].append(company)\n",
    "        a_tag = new_soup.find('div', class_='JobDetailWidget_jobCard_lists_item__w6Yow').a\n",
    "        location = a_tag.text\n",
    "        d[\"Location\"].append(location)\n",
    "        ul_tag = new_soup.find('ul', class_='keyskills_keySkills_items__ej9_3')\n",
    "        # Extract the text content from all <a> tags within the <ul> tag\n",
    "        skills = [a_tag.text for a_tag in ul_tag.find_all('a', class_='btn btn-white-border')]\n",
    "        d[\"Skills\"].append(skills)\n",
    "        span_tag = soup.find('div', class_='jobDetail_jsrpRightDetail_text__jqs8a').span\n",
    "        jd = span_tag.text.strip().replace('\\n', '')\n",
    "        d[\"Job_description\"].append(jd)"
   ]
  },
  {
   "cell_type": "code",
   "execution_count": 13,
   "metadata": {},
   "outputs": [
    {
     "name": "stdout",
     "output_type": "stream",
     "text": [
      "Data Analyst - For Nashik Candidates Only\n",
      "Data Analyst\n",
      "Data Analyst\n",
      "Data Analyst\n",
      "Data Analyst\n",
      "Fresher Data Analyst , Analytics (Upto 5LPA)\n",
      "Junior Data Analyst - ESG Data\n",
      "Graduate Data Analyst\n",
      "Data Analyst Internship\n",
      "Research & Data Analyst (Entry-Level)\n",
      "Data Analyst Trainee (Fresher Graduate)\n",
      "Data Analyst / Analytics (Fresher Graduate)-\n",
      "Data Analyst\n",
      "Data Analyst Intern Mumbai\n",
      "Software Engineer (fresher)\n",
      "Data Analyst\n",
      "Data Analyst\n",
      "Data Analyst Intern Bangalore\n",
      "Python Developer (Fresher / Website,Software)\n",
      "Analyst - Data Intelligence Group\n",
      "Page  0  clicked\n",
      "Data Analytics-Logistics Industry\n",
      "Data Analyst\n",
      "Jr. Data Analyst\n",
      "Data Quality Analyst\n",
      "Data Analyst Intern\n",
      "Flight Operations Data Analyst\n",
      "Data Quality Analyst\n",
      "Data Analyst Recruitment\n",
      "Data Analyst Recruitment\n",
      "Data Analyst Recruitment\n",
      "Data Analyst Trainee in Bhopal, Mumbai (Hybrid)\n",
      "Data Analyst\n",
      "Clinical Data Analyst\n",
      "Software Engineer (For Freshers and Experienced)\n",
      "Software Programmer Fresher\n",
      "Junior Data Analyst\n",
      "Data Analyst / Analytics (Intern Fresh Graduate)-\n",
      "Data Analyst\n",
      "Data Analyst\n",
      "Data Analyst & AI Intern\n",
      "Page  1  clicked\n"
     ]
    }
   ],
   "source": [
    "for i in range(2):\n",
    "    get_info(driver)\n",
    "    next_link = WebDriverWait(driver, 10).until(EC.presence_of_element_located((By.XPATH, '//a[@title=\"Next\"]')))\n",
    "    next_link.click()\n",
    "    print(\"Page \",i,\" clicked\")"
   ]
  },
  {
   "cell_type": "code",
   "execution_count": 111,
   "metadata": {},
   "outputs": [
    {
     "name": "stdout",
     "output_type": "stream",
     "text": [
      "{'Company_name': 519, 'Role': 519, 'Skills': 519, 'Job_description': 519, 'Salary': 0, 'Location': 519}\n"
     ]
    }
   ],
   "source": [
    "# Check the lengths of lists in the dictionary\n",
    "lengths = {key: len(value) for key, value in d.items()}\n",
    "print(lengths)"
   ]
  },
  {
   "cell_type": "code",
   "execution_count": 113,
   "metadata": {},
   "outputs": [],
   "source": [
    "df = pd.DataFrame.from_dict(d)\n",
    "\n",
    "  # Save DataFrame to CSV file\n",
    "csv_file_path = \"job_data_shine.csv\"\n",
    "df.to_csv(csv_file_path, index=False)"
   ]
  }
 ],
 "metadata": {
  "kernelspec": {
   "display_name": "Python 3",
   "language": "python",
   "name": "python3"
  },
  "language_info": {
   "codemirror_mode": {
    "name": "ipython",
    "version": 3
   },
   "file_extension": ".py",
   "mimetype": "text/x-python",
   "name": "python",
   "nbconvert_exporter": "python",
   "pygments_lexer": "ipython3",
   "version": "3.12.1"
  }
 },
 "nbformat": 4,
 "nbformat_minor": 2
}
